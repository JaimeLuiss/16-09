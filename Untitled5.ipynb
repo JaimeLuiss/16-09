{
  "nbformat": 4,
  "nbformat_minor": 0,
  "metadata": {
    "colab": {
      "provenance": []
    },
    "kernelspec": {
      "name": "python3",
      "display_name": "Python 3"
    },
    "language_info": {
      "name": "python"
    }
  },
  "cells": [
    {
      "cell_type": "code",
      "execution_count": 16,
      "metadata": {
        "colab": {
          "base_uri": "https://localhost:8080/"
        },
        "id": "WlgFAhSfR8lC",
        "outputId": "cc660bc6-499e-4ae1-9eaf-016f6b45ab2c"
      },
      "outputs": [
        {
          "output_type": "stream",
          "name": "stdout",
          "text": [
            "Ingrese la cantidad de estudiantes del grado 1534\n",
            "Ingrese la cantidad de estudiantes del grado 2515\n",
            "Ingrese la cantidad de estudiantes del grado 351\n",
            "(['534', {'Estudiantes': [0, '534'], 'calificaciones': [0, '534']}], ['515', {'Estudiantes': [0, '515'], 'calificaciones': [0, '515']}], ['51', {'Estudiantes': [0, '51'], 'calificaciones': [0, '51']}])\n"
          ]
        }
      ],
      "source": [
        "s1=input(\"Ingrese la cantidad de estudiantes del grado 1\")\n",
        "e1={\"Estudiantes\":[0, s1],\"calificaciones\":[0, s1]}\n",
        "s2=input(\"Ingrese la cantidad de estudiantes del grado 2\")\n",
        "e2={\"Estudiantes\":[0, s2],\"calificaciones\":[0, s2]}\n",
        "s3=input(\"Ingrese la cantidad de estudiantes del grado 3\")\n",
        "e3={\"Estudiantes\":[0, s3],\"calificaciones\":[0, s3]}\n",
        "\n",
        "\n",
        "Q=([s1,e1],[s2,e2],[s3,e3])\n",
        "print(Q)\n"
      ]
    },
    {
      "cell_type": "code",
      "source": [],
      "metadata": {
        "id": "ZliPJtsgTL9-"
      },
      "execution_count": null,
      "outputs": []
    }
  ]
}